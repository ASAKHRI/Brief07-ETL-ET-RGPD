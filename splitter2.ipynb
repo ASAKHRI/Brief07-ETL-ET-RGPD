{
 "cells": [
  {
   "cell_type": "code",
   "execution_count": 23,
   "metadata": {},
   "outputs": [],
   "source": [
    "import pandas as pd\n",
    "import missingno as msno\n",
    "\n",
    "import psycopg2\n",
    "import configparser"
   ]
  },
  {
   "cell_type": "markdown",
   "metadata": {},
   "source": [
    "#### import des données"
   ]
  },
  {
   "cell_type": "code",
   "execution_count": 2,
   "metadata": {},
   "outputs": [],
   "source": [
    "data = pd.read_csv('data/ecommerce-data.csv')"
   ]
  },
  {
   "cell_type": "code",
   "execution_count": 5,
   "metadata": {},
   "outputs": [
    {
     "data": {
      "text/html": [
       "<div>\n",
       "<style scoped>\n",
       "    .dataframe tbody tr th:only-of-type {\n",
       "        vertical-align: middle;\n",
       "    }\n",
       "\n",
       "    .dataframe tbody tr th {\n",
       "        vertical-align: top;\n",
       "    }\n",
       "\n",
       "    .dataframe thead th {\n",
       "        text-align: right;\n",
       "    }\n",
       "</style>\n",
       "<table border=\"1\" class=\"dataframe\">\n",
       "  <thead>\n",
       "    <tr style=\"text-align: right;\">\n",
       "      <th></th>\n",
       "      <th>Date</th>\n",
       "      <th>ProductName</th>\n",
       "      <th>ProductCategory</th>\n",
       "      <th>ProductSubCategory</th>\n",
       "      <th>ProductPrice</th>\n",
       "      <th>CustomerName</th>\n",
       "      <th>CustomerEmail</th>\n",
       "      <th>CustomerAddress</th>\n",
       "      <th>CustomerPhone</th>\n",
       "      <th>CustomerSegment</th>\n",
       "      <th>...</th>\n",
       "      <th>SupplierContact</th>\n",
       "      <th>ShipperName</th>\n",
       "      <th>ShippingMethod</th>\n",
       "      <th>QuantitySold</th>\n",
       "      <th>TotalAmount</th>\n",
       "      <th>DiscountAmount</th>\n",
       "      <th>NetAmount</th>\n",
       "      <th>StockReceived</th>\n",
       "      <th>StockSold</th>\n",
       "      <th>StockOnHand</th>\n",
       "    </tr>\n",
       "  </thead>\n",
       "  <tbody>\n",
       "    <tr>\n",
       "      <th>0</th>\n",
       "      <td>2023-09-14</td>\n",
       "      <td>Nathaniel</td>\n",
       "      <td>Electronics</td>\n",
       "      <td>Camera</td>\n",
       "      <td>0.01</td>\n",
       "      <td>Colleen Kelly</td>\n",
       "      <td>maryhurst@example.org</td>\n",
       "      <td>354 Mcdowell Turnpike, Port Charles, CT 95318</td>\n",
       "      <td>908.610.2711x8507</td>\n",
       "      <td>Silver</td>\n",
       "      <td>...</td>\n",
       "      <td>6538306661</td>\n",
       "      <td>and Sons</td>\n",
       "      <td>Ground</td>\n",
       "      <td>49</td>\n",
       "      <td>31965.15</td>\n",
       "      <td>121.07</td>\n",
       "      <td>31844.08</td>\n",
       "      <td>475</td>\n",
       "      <td>127</td>\n",
       "      <td>348</td>\n",
       "    </tr>\n",
       "    <tr>\n",
       "      <th>1</th>\n",
       "      <td>2023-02-11</td>\n",
       "      <td>NonExistentProduct</td>\n",
       "      <td>Electronics</td>\n",
       "      <td>Mobile</td>\n",
       "      <td>847.43</td>\n",
       "      <td>Joel Wright</td>\n",
       "      <td>sandersvictoria@example.org</td>\n",
       "      <td>24740 Fox Villages, New Tracie, MA 53038</td>\n",
       "      <td>+1-408-938-0389x952</td>\n",
       "      <td>Gold</td>\n",
       "      <td>...</td>\n",
       "      <td>NaN</td>\n",
       "      <td>PLC</td>\n",
       "      <td>Air</td>\n",
       "      <td>73</td>\n",
       "      <td>61862.39</td>\n",
       "      <td>91.09</td>\n",
       "      <td>61771.30</td>\n",
       "      <td>487</td>\n",
       "      <td>243</td>\n",
       "      <td>244</td>\n",
       "    </tr>\n",
       "    <tr>\n",
       "      <th>2</th>\n",
       "      <td>2021-11-12</td>\n",
       "      <td>Angela</td>\n",
       "      <td>InvalidCategory</td>\n",
       "      <td>Action Figures</td>\n",
       "      <td>386.57</td>\n",
       "      <td>Thomas Sawyer</td>\n",
       "      <td>ospence@example.net</td>\n",
       "      <td>769 Joe Trail, East Terri, CA 43813</td>\n",
       "      <td>001-929-516-1919x39288</td>\n",
       "      <td>Gold</td>\n",
       "      <td>...</td>\n",
       "      <td>+1-588-750-7646</td>\n",
       "      <td>PLC</td>\n",
       "      <td>Sea</td>\n",
       "      <td>89</td>\n",
       "      <td>34404.73</td>\n",
       "      <td>10.56</td>\n",
       "      <td>34394.17</td>\n",
       "      <td>341</td>\n",
       "      <td>188</td>\n",
       "      <td>153</td>\n",
       "    </tr>\n",
       "    <tr>\n",
       "      <th>3</th>\n",
       "      <td>11-15-2021</td>\n",
       "      <td>Amy</td>\n",
       "      <td>Home &amp; Garden</td>\n",
       "      <td>Decor</td>\n",
       "      <td>364.01</td>\n",
       "      <td>Tyler Gardner</td>\n",
       "      <td>christopherjohnson@example.com</td>\n",
       "      <td>27783 Olivia Centers, Williamsmouth, AL 09809</td>\n",
       "      <td>8907712983</td>\n",
       "      <td>Gold</td>\n",
       "      <td>...</td>\n",
       "      <td>805-650-6257x5876</td>\n",
       "      <td>LLC</td>\n",
       "      <td>Air</td>\n",
       "      <td>3</td>\n",
       "      <td>1092.03</td>\n",
       "      <td>69.06</td>\n",
       "      <td>1022.97</td>\n",
       "      <td>500</td>\n",
       "      <td>124</td>\n",
       "      <td>376</td>\n",
       "    </tr>\n",
       "    <tr>\n",
       "      <th>4</th>\n",
       "      <td>2023-04-22</td>\n",
       "      <td>Nathaniel</td>\n",
       "      <td>Electronics</td>\n",
       "      <td>Camera</td>\n",
       "      <td>652.35</td>\n",
       "      <td>Meagan Peterson</td>\n",
       "      <td>epowell@example.net</td>\n",
       "      <td>25357 Blackwell Locks, Andreabury, MH 27857</td>\n",
       "      <td>9999921886</td>\n",
       "      <td>Gold</td>\n",
       "      <td>...</td>\n",
       "      <td>6538306661</td>\n",
       "      <td>Ltd</td>\n",
       "      <td>Sea</td>\n",
       "      <td>75</td>\n",
       "      <td>48926.25</td>\n",
       "      <td>137.17</td>\n",
       "      <td>48789.08</td>\n",
       "      <td>429</td>\n",
       "      <td>351</td>\n",
       "      <td>78</td>\n",
       "    </tr>\n",
       "  </tbody>\n",
       "</table>\n",
       "<p>5 rows × 22 columns</p>\n",
       "</div>"
      ],
      "text/plain": [
       "         Date         ProductName  ProductCategory ProductSubCategory  \\\n",
       "0  2023-09-14           Nathaniel      Electronics             Camera   \n",
       "1  2023-02-11  NonExistentProduct      Electronics             Mobile   \n",
       "2  2021-11-12              Angela  InvalidCategory     Action Figures   \n",
       "3  11-15-2021                 Amy    Home & Garden              Decor   \n",
       "4  2023-04-22           Nathaniel      Electronics             Camera   \n",
       "\n",
       "  ProductPrice     CustomerName                   CustomerEmail  \\\n",
       "0         0.01    Colleen Kelly           maryhurst@example.org   \n",
       "1       847.43      Joel Wright     sandersvictoria@example.org   \n",
       "2       386.57    Thomas Sawyer             ospence@example.net   \n",
       "3       364.01    Tyler Gardner  christopherjohnson@example.com   \n",
       "4       652.35  Meagan Peterson             epowell@example.net   \n",
       "\n",
       "                                 CustomerAddress           CustomerPhone  \\\n",
       "0  354 Mcdowell Turnpike, Port Charles, CT 95318       908.610.2711x8507   \n",
       "1       24740 Fox Villages, New Tracie, MA 53038     +1-408-938-0389x952   \n",
       "2            769 Joe Trail, East Terri, CA 43813  001-929-516-1919x39288   \n",
       "3  27783 Olivia Centers, Williamsmouth, AL 09809              8907712983   \n",
       "4    25357 Blackwell Locks, Andreabury, MH 27857              9999921886   \n",
       "\n",
       "  CustomerSegment  ...    SupplierContact ShipperName ShippingMethod  \\\n",
       "0          Silver  ...         6538306661    and Sons         Ground   \n",
       "1            Gold  ...                NaN         PLC            Air   \n",
       "2            Gold  ...    +1-588-750-7646         PLC            Sea   \n",
       "3            Gold  ...  805-650-6257x5876         LLC            Air   \n",
       "4            Gold  ...         6538306661         Ltd            Sea   \n",
       "\n",
       "  QuantitySold TotalAmount  DiscountAmount  NetAmount  StockReceived  \\\n",
       "0           49    31965.15          121.07   31844.08            475   \n",
       "1           73    61862.39           91.09   61771.30            487   \n",
       "2           89    34404.73           10.56   34394.17            341   \n",
       "3            3     1092.03           69.06    1022.97            500   \n",
       "4           75    48926.25          137.17   48789.08            429   \n",
       "\n",
       "   StockSold  StockOnHand  \n",
       "0        127          348  \n",
       "1        243          244  \n",
       "2        188          153  \n",
       "3        124          376  \n",
       "4        351           78  \n",
       "\n",
       "[5 rows x 22 columns]"
      ]
     },
     "execution_count": 5,
     "metadata": {},
     "output_type": "execute_result"
    }
   ],
   "source": [
    "data.head()"
   ]
  },
  {
   "cell_type": "markdown",
   "metadata": {},
   "source": [
    "#### traitement des dimentions"
   ]
  },
  {
   "cell_type": "code",
   "execution_count": null,
   "metadata": {},
   "outputs": [
    {
     "name": "stderr",
     "output_type": "stream",
     "text": [
      "C:\\Users\\sakhr\\AppData\\Local\\Temp\\ipykernel_4908\\2495959940.py:4: UserWarning: Parsing dates in %Y-%m-%d format when dayfirst=True was specified. Pass `dayfirst=False` or specify a format to silence this warning.\n",
      "  data['Date'] = pd.to_datetime(data['Date'], dayfirst=True, errors='coerce')\n"
     ]
    }
   ],
   "source": [
    "# Extraction de la date et des éléments de temps\n",
    "data['Date'] = pd.to_datetime(data['Date'], dayfirst=True, errors='coerce')\n",
    "dimension_date = data[['Date']].drop_duplicates().reset_index(drop=True)\n",
    "dimension_date['DateID'] = range(1, len(dimension_date) + 1)\n",
    "dimension_date['Mois'] = dimension_date['Date'].dt.month\n",
    "dimension_date['Trimestre'] = dimension_date['Date'].dt.quarter\n",
    "dimension_date['Année'] = dimension_date['Date'].dt.year"
   ]
  },
  {
   "cell_type": "code",
   "execution_count": 9,
   "metadata": {},
   "outputs": [
    {
     "data": {
      "text/plain": [
       "<Axes: >"
      ]
     },
     "execution_count": 9,
     "metadata": {},
     "output_type": "execute_result"
    },
    {
     "data": {
      "image/png": "[encoded data removed]",
      "text/plain": [
       "<Figure size 2500x1000 with 2 Axes>"
      ]
     },
     "metadata": {},
     "output_type": "display_data"
    }
   ],
   "source": [
    "msno.matrix(dimension_date)"
   ]
  },
  {
   "cell_type": "code",
   "execution_count": 11,
   "metadata": {},
   "outputs": [
    {
     "data": {
      "text/plain": [
       "Date         1\n",
       "DateID       0\n",
       "Mois         1\n",
       "Trimestre    1\n",
       "Année        1\n",
       "dtype: int64"
      ]
     },
     "execution_count": 11,
     "metadata": {},
     "output_type": "execute_result"
    }
   ],
   "source": [
    "dimension_date.isna().sum()"
   ]
  },
  {
   "cell_type": "code",
   "execution_count": 16,
   "metadata": {},
   "outputs": [
    {
     "data": {
      "text/html": [
       "<div>\n",
       "<style scoped>\n",
       "    .dataframe tbody tr th:only-of-type {\n",
       "        vertical-align: middle;\n",
       "    }\n",
       "\n",
       "    .dataframe tbody tr th {\n",
       "        vertical-align: top;\n",
       "    }\n",
       "\n",
       "    .dataframe thead th {\n",
       "        text-align: right;\n",
       "    }\n",
       "</style>\n",
       "<table border=\"1\" class=\"dataframe\">\n",
       "  <thead>\n",
       "    <tr style=\"text-align: right;\">\n",
       "      <th></th>\n",
       "      <th>Date</th>\n",
       "      <th>DateID</th>\n",
       "      <th>Mois</th>\n",
       "      <th>Trimestre</th>\n",
       "      <th>Année</th>\n",
       "    </tr>\n",
       "  </thead>\n",
       "  <tbody>\n",
       "    <tr>\n",
       "      <th>0</th>\n",
       "      <td>2023-09-14</td>\n",
       "      <td>1</td>\n",
       "      <td>9.0</td>\n",
       "      <td>3.0</td>\n",
       "      <td>2023.0</td>\n",
       "    </tr>\n",
       "    <tr>\n",
       "      <th>1</th>\n",
       "      <td>2023-02-11</td>\n",
       "      <td>2</td>\n",
       "      <td>2.0</td>\n",
       "      <td>1.0</td>\n",
       "      <td>2023.0</td>\n",
       "    </tr>\n",
       "    <tr>\n",
       "      <th>2</th>\n",
       "      <td>2021-11-12</td>\n",
       "      <td>3</td>\n",
       "      <td>11.0</td>\n",
       "      <td>4.0</td>\n",
       "      <td>2021.0</td>\n",
       "    </tr>\n",
       "    <tr>\n",
       "      <th>3</th>\n",
       "      <td>2021-11-15</td>\n",
       "      <td>4</td>\n",
       "      <td>11.0</td>\n",
       "      <td>4.0</td>\n",
       "      <td>2021.0</td>\n",
       "    </tr>\n",
       "    <tr>\n",
       "      <th>4</th>\n",
       "      <td>2023-04-22</td>\n",
       "      <td>5</td>\n",
       "      <td>4.0</td>\n",
       "      <td>2.0</td>\n",
       "      <td>2023.0</td>\n",
       "    </tr>\n",
       "    <tr>\n",
       "      <th>...</th>\n",
       "      <td>...</td>\n",
       "      <td>...</td>\n",
       "      <td>...</td>\n",
       "      <td>...</td>\n",
       "      <td>...</td>\n",
       "    </tr>\n",
       "    <tr>\n",
       "      <th>725</th>\n",
       "      <td>2022-07-03</td>\n",
       "      <td>726</td>\n",
       "      <td>7.0</td>\n",
       "      <td>3.0</td>\n",
       "      <td>2022.0</td>\n",
       "    </tr>\n",
       "    <tr>\n",
       "      <th>726</th>\n",
       "      <td>2022-11-30</td>\n",
       "      <td>727</td>\n",
       "      <td>11.0</td>\n",
       "      <td>4.0</td>\n",
       "      <td>2022.0</td>\n",
       "    </tr>\n",
       "    <tr>\n",
       "      <th>727</th>\n",
       "      <td>2023-08-11</td>\n",
       "      <td>728</td>\n",
       "      <td>8.0</td>\n",
       "      <td>3.0</td>\n",
       "      <td>2023.0</td>\n",
       "    </tr>\n",
       "    <tr>\n",
       "      <th>728</th>\n",
       "      <td>2021-10-01</td>\n",
       "      <td>729</td>\n",
       "      <td>10.0</td>\n",
       "      <td>4.0</td>\n",
       "      <td>2021.0</td>\n",
       "    </tr>\n",
       "    <tr>\n",
       "      <th>729</th>\n",
       "      <td>2022-12-28</td>\n",
       "      <td>730</td>\n",
       "      <td>12.0</td>\n",
       "      <td>4.0</td>\n",
       "      <td>2022.0</td>\n",
       "    </tr>\n",
       "  </tbody>\n",
       "</table>\n",
       "<p>730 rows × 5 columns</p>\n",
       "</div>"
      ],
      "text/plain": [
       "          Date  DateID  Mois  Trimestre   Année\n",
       "0   2023-09-14       1   9.0        3.0  2023.0\n",
       "1   2023-02-11       2   2.0        1.0  2023.0\n",
       "2   2021-11-12       3  11.0        4.0  2021.0\n",
       "3   2021-11-15       4  11.0        4.0  2021.0\n",
       "4   2023-04-22       5   4.0        2.0  2023.0\n",
       "..         ...     ...   ...        ...     ...\n",
       "725 2022-07-03     726   7.0        3.0  2022.0\n",
       "726 2022-11-30     727  11.0        4.0  2022.0\n",
       "727 2023-08-11     728   8.0        3.0  2023.0\n",
       "728 2021-10-01     729  10.0        4.0  2021.0\n",
       "729 2022-12-28     730  12.0        4.0  2022.0\n",
       "\n",
       "[730 rows x 5 columns]"
      ]
     },
     "execution_count": 16,
     "metadata": {},
     "output_type": "execute_result"
    }
   ],
   "source": [
    "dimension_date"
   ]
  },
  {
   "cell_type": "code",
   "execution_count": null,
   "metadata": {},
   "outputs": [],
   "source": [
    "# je sais que le probleme ici vien de la date en indice 4 ou le shema n'est pas yyyy-mm-dd je fais donc le remplacement \n",
    "# a la main mais seulement parce que il n'y a que une valeu nan\n",
    "dimension_date['Date'] = dimension_date['Date'].fillna(pd.to_datetime(\"2021-11-15\"))\n",
    "dimension_date['Mois'] = dimension_date['Mois'].fillna(11.0)\n",
    "dimension_date['Trimestre'] = dimension_date['Trimestre'].fillna(4.0)\n",
    "dimension_date['Année'] = dimension_date['Année'].fillna(2021.0)"
   ]
  },
  {
   "cell_type": "code",
   "execution_count": 17,
   "metadata": {},
   "outputs": [],
   "source": [
    "# dimention produit\n",
    "dimension_produit = data[['ProductName', 'ProductCategory', 'ProductSubCategory', 'ProductPrice']].drop_duplicates()\n",
    "dimension_produit['ProductID'] = range(1, len(dimension_produit) + 1)"
   ]
  },
  {
   "cell_type": "code",
   "execution_count": 18,
   "metadata": {},
   "outputs": [],
   "source": [
    "# dimention client\n",
    "dimension_client = data[['CustomerName', 'CustomerEmail', 'CustomerAddress', 'CustomerPhone', 'CustomerSegment']].drop_duplicates()\n",
    "dimension_client['CustomerID'] = range(1, len(dimension_client) + 1)"
   ]
  },
  {
   "cell_type": "code",
   "execution_count": 19,
   "metadata": {},
   "outputs": [],
   "source": [
    "# dimention dournisseur\n",
    "dimension_fournisseur = data[['SupplierName', 'SupplierLocation', 'SupplierContact']].drop_duplicates()\n",
    "dimension_fournisseur['SupplierID'] = range(1, len(dimension_fournisseur) + 1)"
   ]
  },
  {
   "cell_type": "code",
   "execution_count": null,
   "metadata": {},
   "outputs": [],
   "source": [
    "# table de faits\n",
    "# Fusion avec les dimensions pour intégrer les clés étrangères\n",
    "facts_ventes = data.merge(dimension_date[['Date', 'DateID']], on='Date', how='left')\n",
    "facts_ventes = facts_ventes.merge(dimension_produit[['ProductName', 'ProductID']], on='ProductName', how='left')\n",
    "facts_ventes = facts_ventes.merge(dimension_client[['CustomerName', 'CustomerID']], on='CustomerName', how='left')\n",
    "facts_ventes = facts_ventes.merge(dimension_fournisseur[['SupplierName', 'SupplierID']], on='SupplierName', how='left')\n",
    "\n",
    "# Sélection des colonnes de la table de faits qui m'interessent (choix arbitraire)\n",
    "facts_ventes = facts_ventes[['DateID', 'ProductID', 'CustomerID', 'SupplierID', 'QuantitySold', 'TotalAmount', 'DiscountAmount', 'NetAmount']]\n",
    "\n",
    "# besoin des colonnes d'id pour mes jointures, besoin des quantités vendues et des montant pour analyses calcul du chiffre d'affaire par produit par exemple"
   ]
  },
  {
   "cell_type": "markdown",
   "metadata": {},
   "source": [
    "##### sauvegarde des données en csv dans un premier temps (mais pas obligatoire ...)"
   ]
  },
  {
   "cell_type": "code",
   "execution_count": null,
   "metadata": {},
   "outputs": [],
   "source": [
    "dimension_date.to_csv(\"data/dimension_date.csv\", index=False)\n",
    "dimension_produit.to_csv(\"data/dimension_produit.csv\", index=False)\n",
    "dimension_client.to_csv(\"data/dimension_client.csv\", index=False)\n",
    "dimension_fournisseur.to_csv(\"data/dimension_fournisseur.csv\", index=False)\n",
    "facts_ventes.to_csv(\"data/facts_ventes.csv\", index=False)"
   ]
  },
  {
   "cell_type": "markdown",
   "metadata": {},
   "source": [
    "#### Sauvegarde en base de données postgresql"
   ]
  },
  {
   "cell_type": "code",
   "execution_count": null,
   "metadata": {},
   "outputs": [],
   "source": [
    "# essayer connection avec sqlalchemy pour la connection avec ppostgresql tester ave l'orm pour optimisation (perso)"
   ]
  },
  {
   "cell_type": "code",
   "execution_count": null,
   "metadata": {},
   "outputs": [],
   "source": [
    "# creation d'un fichier de config pour masquer les informations importantes pour la connection a ma bdd \n",
    "# ici le mot de passe n'aparait pas en claire\n",
    "config = configparser.ConfigParser()\n",
    "config.read('config.ini')\n",
    "password = config['credentials']['password']"
   ]
  },
  {
   "cell_type": "code",
   "execution_count": null,
   "metadata": {},
   "outputs": [],
   "source": [
    "# mise en place du connecteur\n",
    "conn = psycopg2.connect(\n",
    "    host=\"localhost\",       \n",
    "    database=\"briefRGPD\", \n",
    "    user=\"postgres\",    \n",
    "    password=password, \n",
    "    port=\"5432\"               \n",
    ")"
   ]
  },
  {
   "cell_type": "code",
   "execution_count": 60,
   "metadata": {},
   "outputs": [],
   "source": [
    "cur =  conn.cursor()"
   ]
  },
  {
   "cell_type": "code",
   "execution_count": null,
   "metadata": {},
   "outputs": [],
   "source": [
    "# commande permettant de revenir en cas d'erreur de requete \n",
    "conn.rollback()"
   ]
  },
  {
   "cell_type": "code",
   "execution_count": null,
   "metadata": {},
   "outputs": [],
   "source": [
    "# creation de la table dimension_produit dans la bdd a partir du shema de donnée (shema ici designe colonne et type)\n",
    "create_dimension_produit = '''\n",
    "CREATE TABLE IF NOT EXISTS dimension_produit (\n",
    "    ProductID INTEGER PRIMARY KEY,\n",
    "    ProductName\tvarchar(50),\n",
    "    ProductCategory\tvarchar(50),\n",
    "    ProductSubCategory varchar(50)\n",
    ");\n",
    "'''\n",
    "cur.execute(create_dimension_produit)\n",
    "conn.commit()"
   ]
  },
  {
   "cell_type": "code",
   "execution_count": 42,
   "metadata": {},
   "outputs": [],
   "source": [
    "# table dimension_client\n",
    "create_dimension_client = '''\n",
    "CREATE TABLE IF NOT EXISTS dimension_client (\n",
    "    CustomerName varchar(50),\t\n",
    "    CustomerEmail varchar(50),\t\n",
    "    CustomerAddress\tvarchar(100),\n",
    "    CustomerPhone varchar(100),\t\n",
    "    CustomerSegment\tvarchar(50),\n",
    "    CustomerID INTEGER PRIMARY KEY\n",
    ");\n",
    "'''\n",
    "cur.execute(create_dimension_client)\n",
    "conn.commit()"
   ]
  },
  {
   "cell_type": "code",
   "execution_count": 43,
   "metadata": {},
   "outputs": [],
   "source": [
    "# table dimension_date\n",
    "create_dimension_date = '''\n",
    "CREATE TABLE IF NOT EXISTS dimension_date (\n",
    "    Date date,\t\n",
    "    DateID float primary key,\n",
    "    Mois float,\t\n",
    "    Trimestre float,\n",
    "    Année float\n",
    ");\n",
    "'''\n",
    "cur.execute(create_dimension_date)\n",
    "conn.commit()"
   ]
  },
  {
   "cell_type": "code",
   "execution_count": 48,
   "metadata": {},
   "outputs": [],
   "source": [
    "# table dimension_fournisseur\n",
    "create_dimension_fournisseur = '''\n",
    "CREATE TABLE IF NOT EXISTS dimension_fournisseur (\n",
    "    SupplierName varchar(100),\t\n",
    "    SupplierLocation varchar(100),\t\n",
    "    SupplierContact\tvarchar(50),\n",
    "    SupplierID integer primary key\n",
    ");\n",
    "'''\n",
    "cur.execute(create_dimension_fournisseur)\n",
    "conn.commit()"
   ]
  },
  {
   "cell_type": "code",
   "execution_count": null,
   "metadata": {},
   "outputs": [],
   "source": [
    "\n",
    "# table de faits # specification en fin de requete des foreign keys et des table référentes\n",
    "create_fact_ventes = '''\n",
    "CREATE TABLE IF NOT EXISTS facts_ventes (\n",
    "    DateID float,\n",
    "    ProductID integer,\t\n",
    "    CustomerID integer,\n",
    "    SupplierID integer,\t\n",
    "    QuantitySold integer,\t\n",
    "    TotalAmount\tfloat,\n",
    "    DiscountAmount float,\n",
    "    NetAmount float,\n",
    "    PRIMARY KEY (DateID,ProductID, SupplierID, CustomerID),\n",
    "    CONSTRAINT fk_date FOREIGN KEY (DateID) REFERENCES dimension_date (DateID),\n",
    "    CONSTRAINT fk_product FOREIGN KEY (ProductID) REFERENCES dimension_produit (ProductID),\n",
    "    CONSTRAINT fk_supplier FOREIGN KEY (SupplierID) REFERENCES dimension_fournisseur (SupplierID),\n",
    "    CONSTRAINT fk_customer FOREIGN KEY (CustomerID) REFERENCES dimension_client (CustomerID)\n",
    ");\n",
    "'''\n",
    "cur.execute(create_fact_ventes)\n",
    "conn.commit()"
   ]
  },
  {
   "cell_type": "markdown",
   "metadata": {},
   "source": [
    "#### insertion des données"
   ]
  },
  {
   "cell_type": "code",
   "execution_count": null,
   "metadata": {},
   "outputs": [],
   "source": [
    "# Insertion des données dans la table dimension_produit\n",
    "for i, row in dimension_produit.iterrows():\n",
    "    cur.execute(\"\"\"\n",
    "        INSERT INTO dimension_produit (ProductID, ProductName, ProductCategory, ProductSubCategory)\n",
    "        VALUES (%s, %s, %s, %s)\n",
    "    \"\"\", (row['ProductID'], row['ProductName'], row['ProductCategory'], row['ProductSubCategory']))\n",
    "\n",
    "conn.commit()\n"
   ]
  },
  {
   "cell_type": "code",
   "execution_count": null,
   "metadata": {},
   "outputs": [],
   "source": [
    "# Insertion des données dans la table dimension_client\n",
    "for i, row in dimension_client.iterrows():\n",
    "    cur.execute(\"\"\"\n",
    "        INSERT INTO dimension_client (CustomerID, CustomerName, CustomerEmail, CustomerAddress, CustomerPhone, CustomerSegment)\n",
    "        VALUES (%s, %s, %s, %s, %s, %s)\n",
    "    \"\"\", (row['CustomerID'], row['CustomerName'], row['CustomerEmail'], row['CustomerAddress'], row['CustomerPhone'], row['CustomerSegment']))\n",
    "\n",
    "\n",
    "conn.commit()\n"
   ]
  },
  {
   "cell_type": "code",
   "execution_count": null,
   "metadata": {},
   "outputs": [],
   "source": [
    "# Insertion des données dans la table dimension_date\n",
    "for i, row in dimension_date.iterrows():\n",
    "    cur.execute(\"\"\"\n",
    "        INSERT INTO dimension_date (Date, DateID, Mois, Trimestre, Année)\n",
    "        VALUES (%s, %s, %s, %s, %s)\n",
    "    \"\"\", (row['Date'], row['DateID'], row['Mois'], row['Trimestre'], row['Année']))\n",
    "\n",
    "\n",
    "conn.commit()"
   ]
  },
  {
   "cell_type": "code",
   "execution_count": null,
   "metadata": {},
   "outputs": [],
   "source": [
    "# Insertion des données dans la table dimension_fournisseur\n",
    "for i, row in dimension_fournisseur.iterrows():\n",
    "    cur.execute(\"\"\"\n",
    "        INSERT INTO dimension_fournisseur (SupplierID, SupplierName, SupplierLocation, SupplierContact)\n",
    "        VALUES (%s, %s, %s, %s)\n",
    "    \"\"\", (row['SupplierID'], row['SupplierName'], row['SupplierLocation'], row['SupplierContact']))\n",
    "\n",
    "\n",
    "conn.commit()"
   ]
  },
  {
   "cell_type": "code",
   "execution_count": null,
   "metadata": {},
   "outputs": [],
   "source": [
    "# Remplacer les valeurs NaN par une valeur par défaut, si nécessaire (par exemple 999999) \n",
    "# pour pouvoir alimenter ma table cas de force majeur\n",
    "facts_ventes['DateID'] = facts_ventes['DateID'].fillna(999999)"
   ]
  },
  {
   "cell_type": "code",
   "execution_count": null,
   "metadata": {},
   "outputs": [
    {
     "name": "stdout",
     "output_type": "stream",
     "text": [
      "Ligne avec DateID = 999999 ajoutée à la table dimension_date.\n"
     ]
    }
   ],
   "source": [
    "# Définir les valeurs pour la ligne avec DateID = 999999\n",
    "dateid_value = 999999\n",
    "date_value = '1000-01-01'  # Exemple de valeur pour dateID (erreur monumentale et visible pour simplifier \n",
    "# le travail de celui qui devra les corriger par la suite)\n",
    "mois_value = 1  \n",
    "trimestre_value = 1  \n",
    "annee_value = 1000  \n",
    "\n",
    "# Insérer la ligne dans dimension_date car si DateID n'aparait pas dans la table de dimention mais qu'elle est\n",
    "# presente dans la table de fait une erreur sera générée d'ou l'ajout de cet id 9999999\n",
    "cur.execute(\"\"\"\n",
    "    INSERT INTO dimension_date (DateID, Date, Mois, Trimestre, Année)\n",
    "    VALUES (%s, %s, %s, %s, %s)\n",
    "\"\"\", (dateid_value, date_value, mois_value, trimestre_value, annee_value))\n",
    "\n",
    "\n",
    "conn.commit()\n",
    "\n",
    "print(\"Ligne avec DateID = 999999 ajoutée à la table dimension_date.\")"
   ]
  },
  {
   "cell_type": "code",
   "execution_count": 85,
   "metadata": {},
   "outputs": [
    {
     "name": "stdout",
     "output_type": "stream",
     "text": [
      "Données insérées, les doublons ont été ignorés.\n"
     ]
    }
   ],
   "source": [
    "# Utilisation de executemany pour insérer plusieurs lignes à la fois\n",
    "cur.executemany(\"\"\"\n",
    "    INSERT INTO facts_ventes (DateID, ProductID, CustomerID, SupplierID, QuantitySold, TotalAmount, DiscountAmount, NetAmount)\n",
    "    VALUES (%s, %s, %s, %s, %s, %s, %s, %s)\n",
    "    ON CONFLICT (DateID, ProductID, SupplierID, CustomerID) DO NOTHING\n",
    "\"\"\", data_to_insert)\n",
    "\n",
    "# Commit des changements\n",
    "conn.commit()\n",
    "\n",
    "print(\"Données insérées, les doublons ont été ignorés.\")"
   ]
  }
 ],
 "metadata": {
  "kernelspec": {
   "display_name": "monEnvBrief7",
   "language": "python",
   "name": "python3"
  },
  "language_info": {
   "codemirror_mode": {
    "name": "ipython",
    "version": 3
   },
   "file_extension": ".py",
   "mimetype": "text/x-python",
   "name": "python",
   "nbconvert_exporter": "python",
   "pygments_lexer": "ipython3",
   "version": "3.10.7"
  }
 },
 "nbformat": 4,
 "nbformat_minor": 2
}
